{
  "nbformat": 4,
  "nbformat_minor": 0,
  "metadata": {
    "colab": {
      "name": "Assignment(30 June).ipynb",
      "provenance": [],
      "collapsed_sections": []
    },
    "kernelspec": {
      "name": "python3",
      "display_name": "Python 3"
    },
    "language_info": {
      "name": "python"
    }
  },
  "cells": [
    {
      "cell_type": "code",
      "metadata": {
        "id": "PT_qHMjlxOKk"
      },
      "source": [
        "#Q1\n",
        "import numpy as np"
      ],
      "execution_count": null,
      "outputs": []
    },
    {
      "cell_type": "code",
      "metadata": {
        "colab": {
          "base_uri": "https://localhost:8080/"
        },
        "id": "K4hPnRfSxbsc",
        "outputId": "9f4675d2-d05f-4d76-ff6e-89207a083657"
      },
      "source": [
        "#Trignometric_Functions\n",
        "print(np.rad2deg(30))\n",
        "print(np.deg2rad(30))\n",
        "\n",
        "print(np.radians(30))\n",
        "print(np.degrees(30))\n",
        "\n",
        "print(np.arctan2([1., -1.], [0., 0.]))\n",
        "print(np.hypot(3,4))"
      ],
      "execution_count": null,
      "outputs": [
        {
          "output_type": "stream",
          "text": [
            "1718.8733853924696\n",
            "0.5235987755982988\n",
            "0.5235987755982988\n",
            "1718.8733853924696\n",
            "[ 1.57079633 -1.57079633]\n",
            "5.0\n"
          ],
          "name": "stdout"
        }
      ]
    },
    {
      "cell_type": "code",
      "metadata": {
        "colab": {
          "base_uri": "https://localhost:8080/"
        },
        "id": "sea-2FNbxsA-",
        "outputId": "7d38b196-96ad-4913-b623-2cb6538588df"
      },
      "source": [
        "#Hyperbolic_Functions\n",
        "print(np.arcsinh(30))\n",
        "print(np.arccosh(30))\n",
        "print(np.arctanh(10))\n"
      ],
      "execution_count": null,
      "outputs": [
        {
          "output_type": "stream",
          "text": [
            "4.09462222433053\n",
            "4.0940666686320855\n",
            "nan\n"
          ],
          "name": "stdout"
        },
        {
          "output_type": "stream",
          "text": [
            "/usr/local/lib/python3.7/dist-packages/ipykernel_launcher.py:4: RuntimeWarning: invalid value encountered in arctanh\n",
            "  after removing the cwd from sys.path.\n"
          ],
          "name": "stderr"
        }
      ]
    },
    {
      "cell_type": "code",
      "metadata": {
        "colab": {
          "base_uri": "https://localhost:8080/"
        },
        "id": "_rBbndDNzuUb",
        "outputId": "520f076c-55eb-47ac-a4c8-0611d1cba84e"
      },
      "source": [
        "#Rounding\n",
        "print(np.floor(3.5))\n",
        "print(np.ceil(3.4))\n",
        "print(np.trunc(3.5))"
      ],
      "execution_count": null,
      "outputs": [
        {
          "output_type": "stream",
          "text": [
            "3.0\n",
            "4.0\n",
            "3.0\n"
          ],
          "name": "stdout"
        }
      ]
    },
    {
      "cell_type": "code",
      "metadata": {
        "colab": {
          "base_uri": "https://localhost:8080/"
        },
        "id": "1TtCWVvn0T6F",
        "outputId": "2b5b64a2-dcfc-44a8-db90-f50a94042537"
      },
      "source": [
        "#Sums_products_differences\n",
        "print(np.trapz([5,4,3]))\n",
        "print(np.cross([5,4,3],[1,2,3]))\n",
        "print(np.gradient([5,4,3]))\n",
        "print(np.ediff1d([5,4,3]))\n",
        "print(np.diff([5,4,3]))\n",
        "print(np.nancumsum([5,4,3]))\n",
        "print(np.nancumprod([5,4,3]))"
      ],
      "execution_count": null,
      "outputs": [
        {
          "output_type": "stream",
          "text": [
            "8.0\n",
            "[  6 -12   6]\n",
            "[-1. -1. -1.]\n",
            "[-1 -1]\n",
            "[-1 -1]\n",
            "[ 5  9 12]\n",
            "[ 5 20 60]\n"
          ],
          "name": "stdout"
        }
      ]
    },
    {
      "cell_type": "code",
      "metadata": {
        "colab": {
          "base_uri": "https://localhost:8080/"
        },
        "id": "1MIg8Ccz1jhT",
        "outputId": "1c91af42-35b8-499f-8e8f-cee4de0486d2"
      },
      "source": [
        "#Exponents_logarithms\n",
        "print(np.log2([0, 3, 2, 7]))\n",
        "print(np.log1p([0, 3, 2, 7]))\n",
        "print(np.logaddexp(3,4))\n",
        "print(np.logaddexp2(5,4))\n",
        "      "
      ],
      "execution_count": null,
      "outputs": [
        {
          "output_type": "stream",
          "text": [
            "[      -inf 1.5849625  1.         2.80735492]\n",
            "[0.         1.38629436 1.09861229 2.07944154]\n",
            "4.313261687518223\n",
            "5.584962500721156\n"
          ],
          "name": "stdout"
        },
        {
          "output_type": "stream",
          "text": [
            "/usr/local/lib/python3.7/dist-packages/ipykernel_launcher.py:2: RuntimeWarning: divide by zero encountered in log2\n",
            "  \n"
          ],
          "name": "stderr"
        }
      ]
    },
    {
      "cell_type": "code",
      "metadata": {
        "colab": {
          "base_uri": "https://localhost:8080/"
        },
        "id": "3Y4NS65U42Qg",
        "outputId": "d1b9427d-1240-4049-a3dd-7940319be8f6"
      },
      "source": [
        "#Other_special_functions\n",
        "print(np.sinc(5))\n",
        "\n"
      ],
      "execution_count": null,
      "outputs": [
        {
          "output_type": "stream",
          "text": [
            "3.898171832519376e-17\n"
          ],
          "name": "stdout"
        }
      ]
    },
    {
      "cell_type": "code",
      "metadata": {
        "colab": {
          "base_uri": "https://localhost:8080/"
        },
        "id": "MCDgzvIv5tFW",
        "outputId": "e7d34b39-32eb-4759-b495-af0de4fa5e36"
      },
      "source": [
        "#Floating_point_routines\n",
        "print(np.ldexp(2,3))\n",
        "print(np.spacing(5))\n",
        "print(np.nextafter(2,3))"
      ],
      "execution_count": null,
      "outputs": [
        {
          "output_type": "stream",
          "text": [
            "16.0\n",
            "8.881784197001252e-16\n",
            "2.0000000000000004\n"
          ],
          "name": "stdout"
        }
      ]
    },
    {
      "cell_type": "code",
      "metadata": {
        "colab": {
          "base_uri": "https://localhost:8080/"
        },
        "id": "ZHbY23Xe-kkD",
        "outputId": "84679d6d-e4e2-4cc5-c459-605dde2b2051"
      },
      "source": [
        "#Rational_routines\n",
        "print(np.gcd(2,3))\n"
      ],
      "execution_count": null,
      "outputs": [
        {
          "output_type": "stream",
          "text": [
            "1\n"
          ],
          "name": "stdout"
        }
      ]
    },
    {
      "cell_type": "code",
      "metadata": {
        "colab": {
          "base_uri": "https://localhost:8080/"
        },
        "id": "FeqZqgJx_Nc-",
        "outputId": "1b6fef2c-dd89-42a6-8246-1d613b80d1a2"
      },
      "source": [
        "#Arithmetic_operations\n",
        "print(np.divmod(2,3))\n",
        "print(np.remainder(2,3))\n",
        "print(np.modf(2))\n",
        "print(np.mod(2,3))\n",
        "print(np.fmod(2,7))"
      ],
      "execution_count": null,
      "outputs": [
        {
          "output_type": "stream",
          "text": [
            "(0, 2)\n",
            "2\n",
            "(0.0, 2.0)\n",
            "2\n",
            "2\n"
          ],
          "name": "stdout"
        }
      ]
    },
    {
      "cell_type": "code",
      "metadata": {
        "colab": {
          "base_uri": "https://localhost:8080/"
        },
        "id": "zWljhG1l_c_9",
        "outputId": "37ab7e9e-541e-4401-a145-abd9c49dd913"
      },
      "source": [
        "#Handling_complex_numbers\n",
        "print(np.conj(2))\n",
        "print(np.conjugate(7))\n"
      ],
      "execution_count": null,
      "outputs": [
        {
          "output_type": "stream",
          "text": [
            "2\n",
            "7\n"
          ],
          "name": "stdout"
        }
      ]
    },
    {
      "cell_type": "code",
      "metadata": {
        "colab": {
          "base_uri": "https://localhost:8080/"
        },
        "id": "IGfiAuOjAHwP",
        "outputId": "2184570a-09fc-4194-f423-40227e80c432"
      },
      "source": [
        "#Miscellaneous\n",
        "print(np.maximum([0, 3, 2, 7],[5,4,8,6]))\n",
        "print(np.minimum([0, 3, 2, 7],[5,4,8,6]))\n",
        "print(np.fmax([0, 3, 2, 7],[5,4,8,6]))\n",
        "print(np.fmin([0, 3, 2, 7],[5,4,8,6]))\n",
        "print(np.interp([0, 3, 2, 7],[4,5],[8,9]))\n"
      ],
      "execution_count": null,
      "outputs": [
        {
          "output_type": "stream",
          "text": [
            "[5 4 8 7]\n",
            "[0 3 2 6]\n",
            "[5 4 8 7]\n",
            "[0 3 2 6]\n",
            "[8. 8. 8. 9.]\n"
          ],
          "name": "stdout"
        }
      ]
    },
    {
      "cell_type": "code",
      "metadata": {
        "colab": {
          "base_uri": "https://localhost:8080/"
        },
        "id": "wbnbc-hAAb6o",
        "outputId": "b303c31f-8368-4e4f-b0fb-0b9d839e804b"
      },
      "source": [
        "#Q2\n",
        "#VStack\n",
        "a = np.array([[1, 2, 3],[4,5,6]])\n",
        "b = np.array([[4, 5, 6],[7,8,9]])\n",
        "np.vstack((a,b))\n"
      ],
      "execution_count": null,
      "outputs": [
        {
          "output_type": "execute_result",
          "data": {
            "text/plain": [
              "array([[1, 2, 3],\n",
              "       [4, 5, 6],\n",
              "       [4, 5, 6],\n",
              "       [7, 8, 9]])"
            ]
          },
          "metadata": {
            "tags": []
          },
          "execution_count": 71
        }
      ]
    },
    {
      "cell_type": "code",
      "metadata": {
        "colab": {
          "base_uri": "https://localhost:8080/"
        },
        "id": "S4sXeHNcByJP",
        "outputId": "2af98c71-7973-48f7-88b6-3dab84e70f1b"
      },
      "source": [
        "#dStack\n",
        "a = np.array([[1, 2, 3],[4,5,6]])\n",
        "b = np.array([[4, 5, 6],[7,8,9]])\n",
        "np.dstack((a,b))"
      ],
      "execution_count": null,
      "outputs": [
        {
          "output_type": "execute_result",
          "data": {
            "text/plain": [
              "array([[[1, 4],\n",
              "        [2, 5],\n",
              "        [3, 6]],\n",
              "\n",
              "       [[4, 7],\n",
              "        [5, 8],\n",
              "        [6, 9]]])"
            ]
          },
          "metadata": {
            "tags": []
          },
          "execution_count": 72
        }
      ]
    },
    {
      "cell_type": "code",
      "metadata": {
        "id": "fgyWhnh0CqiC"
      },
      "source": [
        ""
      ],
      "execution_count": null,
      "outputs": []
    }
  ]
}