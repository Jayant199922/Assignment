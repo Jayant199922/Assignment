{
 "cells": [
  {
   "cell_type": "code",
   "execution_count": 1,
   "metadata": {},
   "outputs": [],
   "source": [
    "import numpy as np\n",
    "from sklearn.linear_model import LinearRegression"
   ]
  },
  {
   "cell_type": "code",
   "execution_count": 2,
   "metadata": {},
   "outputs": [
    {
     "name": "stdout",
     "output_type": "stream",
     "text": [
      "[[ 7420]\n",
      " [ 8960]\n",
      " [ 9960]\n",
      " [ 7500]\n",
      " [ 7420]\n",
      " [ 7500]\n",
      " [ 8580]\n",
      " [16200]\n",
      " [ 8100]\n",
      " [ 5750]\n",
      " [13200]\n",
      " [ 6000]\n",
      " [ 6550]\n",
      " [ 3500]\n",
      " [ 7800]\n",
      " [ 6000]\n",
      " [ 6600]\n",
      " [ 8500]\n",
      " [ 4600]\n",
      " [ 6420]\n",
      " [ 4320]\n",
      " [ 7155]\n",
      " [ 8050]\n",
      " [ 4560]\n",
      " [ 8800]\n",
      " [ 6540]\n",
      " [ 6000]\n",
      " [ 8875]\n",
      " [ 7950]\n",
      " [ 5500]\n",
      " [ 7475]\n",
      " [ 7000]\n",
      " [ 4880]\n",
      " [ 5960]\n",
      " [ 6840]\n",
      " [ 7000]\n",
      " [ 7482]\n",
      " [ 9000]\n",
      " [ 6000]\n",
      " [ 6000]\n",
      " [ 6550]\n",
      " [ 6360]\n",
      " [ 6480]\n",
      " [ 6000]\n",
      " [ 6000]\n",
      " [ 6000]\n",
      " [ 6000]\n",
      " [ 6600]\n",
      " [ 4300]\n",
      " [ 7440]\n",
      " [ 7440]\n",
      " [ 6325]\n",
      " [ 6000]\n",
      " [ 5150]\n",
      " [ 6000]\n",
      " [ 6000]\n",
      " [11440]\n",
      " [ 9000]\n",
      " [ 7680]\n",
      " [ 6000]\n",
      " [ 6000]\n",
      " [ 8880]\n",
      " [ 6240]\n",
      " [ 6360]\n",
      " [11175]\n",
      " [ 8880]\n",
      " [13200]\n",
      " [ 7700]\n",
      " [ 6000]\n",
      " [12090]\n",
      " [ 4000]\n",
      " [ 6000]\n",
      " [ 5020]\n",
      " [ 6600]\n",
      " [ 4040]\n",
      " [ 4260]\n",
      " [ 6420]\n",
      " [ 6500]\n",
      " [ 5700]]\n"
     ]
    }
   ],
   "source": [
    "X=np.array([7420,8960,9960,7500,7420,7500,8580,16200,8100,5750,13200,6000,6550,3500,\n",
    "7800,6000,6600,8500,4600,6420,4320,7155,8050,4560,8800,\n",
    "6540,6000,8875,7950,5500,7475,7000,4880,5960,6840,7000,7482,9000,\n",
    "6000,6000,6550,6360,6480,6000,6000,6000,6000,6600,4300,\n",
    "7440,7440,6325,6000,5150,6000,6000,11440,9000,7680,6000,6000,8880,6240\n",
    ",6360,\n",
    "11175,8880,13200,7700,6000,12090,4000,6000,5020,6600,4040,4260,6420,6500,5700]).reshape((-1,1))\n",
    "print(X)"
   ]
  },
  {
   "cell_type": "code",
   "execution_count": 4,
   "metadata": {},
   "outputs": [
    {
     "name": "stdout",
     "output_type": "stream",
     "text": [
      "(79, 1)\n"
     ]
    }
   ],
   "source": [
    "print(X.shape)"
   ]
  },
  {
   "cell_type": "code",
   "execution_count": null,
   "metadata": {},
   "outputs": [],
   "source": [
    "dir(np)"
   ]
  },
  {
   "cell_type": "code",
   "execution_count": 5,
   "metadata": {},
   "outputs": [],
   "source": [
    "y=np.array([13300000,12250000,12250000,12215000,11410000,10850000,10150000,10150000,9870000,\n",
    "9800000,9800000,9681000,9310000,9240000,9240000,9100000,9100000,8960000,\n",
    "8890000,8855000,8750000,8680000,8645000,8645000,8575000,8540000,\n",
    "8463000,8400000,8400000,8400000,8400000,8400000,8295000,8190000,\n",
    "8120000,8080940,8043000,7980000,7962500,7910000,\n",
    "7875000,7840000,7700000,7700000,7560000,7560000,7525000,7490000,\n",
    "7455000,7420000,7420000,7420000,7350000,7350000,7350000,7350000,\n",
    "7343000,7245000,7210000,7210000,7140000,7070000,7070000,7035000,\n",
    "7000000,6930000,6930000,6895000,6860000,6790000,6790000,6755000,\n",
    "6720000,6685000,6650000,6650000,6650000,6650000,6650000])"
   ]
  },
  {
   "cell_type": "code",
   "execution_count": 6,
   "metadata": {},
   "outputs": [
    {
     "name": "stdout",
     "output_type": "stream",
     "text": [
      "(79,)\n"
     ]
    }
   ],
   "source": [
    "print(y.shape)"
   ]
  },
  {
   "cell_type": "code",
   "execution_count": 8,
   "metadata": {},
   "outputs": [
    {
     "data": {
      "text/plain": [
       "LinearRegression()"
      ]
     },
     "execution_count": 8,
     "metadata": {},
     "output_type": "execute_result"
    }
   ],
   "source": [
    "model=LinearRegression()\n",
    "model.fit(X,y)"
   ]
  },
  {
   "cell_type": "code",
   "execution_count": 9,
   "metadata": {},
   "outputs": [
    {
     "name": "stdout",
     "output_type": "stream",
     "text": [
      "Coefficient of determination: 0.04566809799617888\n"
     ]
    }
   ],
   "source": [
    "R_square=model.score(X,y)\n",
    "print('Coefficient of determination:',R_square)"
   ]
  },
  {
   "cell_type": "code",
   "execution_count": 10,
   "metadata": {},
   "outputs": [
    {
     "name": "stdout",
     "output_type": "stream",
     "text": [
      "Parameters, theta 0: 7226203.1279063355\n",
      "Parameters, theta 1: [142.41991524]\n"
     ]
    }
   ],
   "source": [
    "print('Parameters, theta 0:',model.intercept_)\n",
    "print('Parameters, theta 1:',model.coef_)"
   ]
  },
  {
   "cell_type": "code",
   "execution_count": 14,
   "metadata": {},
   "outputs": [
    {
     "name": "stdout",
     "output_type": "stream",
     "text": [
      "predicted value:\n",
      "[7938302.70412508]\n"
     ]
    }
   ],
   "source": [
    "y_pred=model.predict(np.array([5000]).reshape((-1,1)))\n",
    "print('predicted value:', y_pred, sep='\\n')"
   ]
  }
 ],
 "metadata": {
  "kernelspec": {
   "display_name": "Python 3",
   "language": "python",
   "name": "python3"
  },
  "language_info": {
   "codemirror_mode": {
    "name": "ipython",
    "version": 3
   },
   "file_extension": ".py",
   "mimetype": "text/x-python",
   "name": "python",
   "nbconvert_exporter": "python",
   "pygments_lexer": "ipython3",
   "version": "3.8.5"
  }
 },
 "nbformat": 4,
 "nbformat_minor": 4
}
